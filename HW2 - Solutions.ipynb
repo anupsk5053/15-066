{
 "cells": [
  {
   "cell_type": "markdown",
   "metadata": {},
   "source": [
    "## HW2 - LP formulations, duals, and a first ILP\n",
    "\n",
    "In this second homework assignment we will focus on a few more LP formulations, a duality question, and a first ILP. In contrast to the first homework, we'll provide a little bit less skeleton code, so you may want to rely on code samples you already saw in class (e.g., notebooks shared on Canvas, HW1 solutions, etc.) to help you with the basic skeleton of things needed, like declaring the model, setting the objective, etc."
   ]
  },
  {
   "cell_type": "code",
   "execution_count": 1,
   "metadata": {},
   "outputs": [],
   "source": [
    "import gurobipy as gp\n",
    "from IPython.display import Image"
   ]
  },
  {
   "cell_type": "markdown",
   "metadata": {},
   "source": [
    "#### Problem 1: Product mix and profit maximization\n",
    "\n",
    "A canning company operates two plants (South and Central). Its suppliers provide fresh fruit of three different kinds (peaches, pears, and pineapples). The unit cost of peaches, pears, and pineapples is 110, 100, and 90 USD respectively. The shipping costs per unit are (respectively, for peaches, pears, and pineapples) 30, 20, and 60 USD to the southern plant. To the central plant, the shipping costs are 35, 25, and 40 USD. The southern plant has a capacity of 460 units, and labor costs of 260 USD per unit. The central plant has a capacity of 560 units, and labor costs of 210 USD per unit. Labor costs at both plants are independent of fruit type.\n",
    "\n",
    "Cans of peaches, pears, and pineapples are sold to distributors at 480, 500, and 520 USD per unit respectively. The distributors provide (and pay for) the shipping from the plants.\n",
    "\n",
    "Assuming that the company wants to maximize its profit, how much of each fruit should they can at each of the factories? (Note: if you do the bonus part, you don't need to write out the answers to the other parts)"
   ]
  },
  {
   "cell_type": "markdown",
   "metadata": {},
   "source": [
    "- What decision variables would you use to find the optimal shipments?"
   ]
  },
  {
   "cell_type": "markdown",
   "metadata": {},
   "source": [
    "One variable per fruit/plan combination: $x_{ij}$ equal to the quantity of fruit $i\\in\\{\\text{peach, pear, pineaple}\\}$ provided to plant $j\\in\\{\\text{south, central}\\}$."
   ]
  },
  {
   "cell_type": "markdown",
   "metadata": {},
   "source": [
    "- How would you encode the objective of this LP?"
   ]
  },
  {
   "cell_type": "markdown",
   "metadata": {},
   "source": [
    "Let $c_i$ be the cost of each fruit $i$, $s_{ij}$ be the shipping cost of each fruit $i$ to plant $j$, and $l_j$ the labor cost per unit of fruit of plant $j$. Let $r_i$ be the sell value of each fruit $i$.\n",
    "\n",
    "Total fruit $i$ produced: $\\sum_j x_{ij}$.\n",
    "\n",
    "Total fruit in plant $j$: $\\sum_j x_{ij}$.\n",
    "\n",
    "Then, the objective would be to maximize the total profit:\n",
    "\n",
    "$$\\sum_i r_i\\left(\\sum_j x_{ij}\\right) - \\sum_i c_i \\left(\\sum_j x_{ij}\\right) - \\sum_j l_j\\left(\\sum_i x_{ij}\\right).$$\n",
    "\n",
    "Note that since the distributor pays for the shipping, we don't need to incorporate that in the objective."
   ]
  },
  {
   "cell_type": "markdown",
   "metadata": {},
   "source": [
    "- What kind of constraints will a LP require to solve this question? First describe the effect each constraint would have in English, then write them out (notice that Jupyter should understand latex, so you can either write them out in mathematical form or write out a description like \"sum over all variables of this type be at most that\" --- in the latter case, make sure to be as precise as possible!)"
   ]
  },
  {
   "cell_type": "markdown",
   "metadata": {},
   "source": [
    "There is a capacity constraint on how much fruit can be stored at a plant:\n",
    "\n",
    "$$\\sum_i x_{i,south} \\leq 460,\\ \\ \\sum_i x_{i,central} \\leq 560$$"
   ]
  },
  {
   "cell_type": "markdown",
   "metadata": {},
   "source": [
    "Bonus: implement the above in gurobi (not required, but if you struggled with HW1 it would be good practice to write it out from scratch!)."
   ]
  },
  {
   "cell_type": "code",
   "execution_count": 2,
   "metadata": {},
   "outputs": [
    {
     "name": "stdout",
     "output_type": "stream",
     "text": [
      "Using license file /Users/dfreund/gurobi.lic\n",
      "Academic license - for non-commercial use only\n",
      "Gurobi Optimizer version 9.0.2 build v9.0.2rc0 (mac64)\n",
      "Optimize a model with 2 rows, 6 columns and 6 nonzeros\n",
      "Model fingerprint: 0x2394998a\n",
      "Coefficient statistics:\n",
      "  Matrix range     [1e+00, 1e+00]\n",
      "  Objective range  [8e+01, 2e+02]\n",
      "  Bounds range     [0e+00, 0e+00]\n",
      "  RHS range        [5e+02, 6e+02]\n",
      "Presolve removed 2 rows and 6 columns\n",
      "Presolve time: 0.00s\n",
      "Presolve: All rows and columns removed\n",
      "Iteration    Objective       Primal Inf.    Dual Inf.      Time\n",
      "       0    1.5600000e+05   0.000000e+00   0.000000e+00      0s\n",
      "\n",
      "Solved in 0 iterations and 0.01 seconds\n",
      "Optimal objective  1.560000000e+05\n",
      "1 South 460.0\n",
      "2 Central 560.0\n"
     ]
    }
   ],
   "source": [
    "plants = ['South', 'Central']\n",
    "# We won't save the fruits explicitly, and thus enumerate peach, pear, pineapple, as 0th, 1st, 2nd index\n",
    "# Also, instead of keeping c_i and r_i separately, we just define r_i-c_i\n",
    "net_revenues = [370, 400, 430]\n",
    "shipping_costs = {'South': [30,20,60], 'Central': [35,25,40]}\n",
    "capacities = {'South': 460, 'Central': 560}\n",
    "labor_costs = {'South': 260, 'Central': 210}\n",
    "\n",
    "m = gp.Model(\"primal\")\n",
    "x = {}\n",
    "fruits = [0,1,2]\n",
    "for fruit in fruits:\n",
    "    for plant in plants:\n",
    "        x[fruit,plant] = m.addVar(lb=0)\n",
    "for plant in plants:\n",
    "    m.addConstr(sum(x[fruit,plant] for fruit in fruits) <= capacities[plant])\n",
    "\n",
    "labor_cost = 0\n",
    "for plant in plants: labor_cost += labor_costs[plant] * sum(x[fruit,plant] for fruit in fruits)\n",
    "shipping_cost = 0\n",
    "for plant in plants: shipping_cost += sum(shipping_costs[plant][fruit] * x[fruit,plant] for fruit in fruits)\n",
    "net_revenue = 0\n",
    "for plant in plants: net_revenue += sum(x[fruit,plant]*net_revenues[fruit] for fruit in fruits)\n",
    "m.setObjective(net_revenue-labor_cost-shipping_cost, gp.GRB.MAXIMIZE)\n",
    "m.optimize()\n",
    "for fruit, plant in x:\n",
    "    if x[fruit,plant].x >0: print(fruit, plant, x[fruit,plant].x)"
   ]
  },
  {
   "cell_type": "markdown",
   "metadata": {},
   "source": [
    "Note that the solution is somewhat silly/trivial: for each plant, we should only can the fruit that maximizes profit (revenue minus unit cost minus labor cost minus shipping cost), and can as much of that as we have capacity for. Under what kind of constraints would the problem have a *more interesting* solution"
   ]
  },
  {
   "cell_type": "markdown",
   "metadata": {},
   "source": [
    "#### Problem 2: Taking a dual\n",
    "\n",
    "In class we discussed how to take the dual LP of a given primal LP. In this problem, we will practice taking duals, and remind ourselves both of how the dual solution relates to sensitivity analysis and of how gurobi can give us the dual solutions.\n",
    "\n",
    "The primal problem we study is as follows:\n",
    "\n",
    "\n",
    "$\\max x + 3\\cdot y + 2\\cdot z$\n",
    "\n",
    "subject to:\n",
    "\n",
    "$ 0\\leq x \\leq 10$\n",
    "\n",
    "$0 \\leq y \\leq 12$\n",
    "\n",
    "$3\\cdot x+y+5\\cdot z\\leq 10 $\n",
    "\n",
    "$x + 3\\cdot y\\leq 12$\n",
    "\n",
    "$3\\cdot z\\geq 6$\n"
   ]
  },
  {
   "cell_type": "markdown",
   "metadata": {},
   "source": [
    "Below, I already implemented this LP in Gurobi. Make sure you follow all the steps."
   ]
  },
  {
   "cell_type": "code",
   "execution_count": 3,
   "metadata": {},
   "outputs": [
    {
     "name": "stdout",
     "output_type": "stream",
     "text": [
      "Gurobi Optimizer version 9.0.2 build v9.0.2rc0 (mac64)\n",
      "Optimize a model with 5 rows, 3 columns and 8 nonzeros\n",
      "Model fingerprint: 0x512860b2\n",
      "Coefficient statistics:\n",
      "  Matrix range     [1e+00, 5e+00]\n",
      "  Objective range  [1e+00, 3e+00]\n",
      "  Bounds range     [0e+00, 0e+00]\n",
      "  RHS range        [6e+00, 1e+01]\n",
      "Presolve removed 5 rows and 3 columns\n",
      "Presolve time: 0.01s\n",
      "Presolve: All rows and columns removed\n",
      "Iteration    Objective       Primal Inf.    Dual Inf.      Time\n",
      "       0    4.0000000e+00   0.000000e+00   0.000000e+00      0s\n",
      "\n",
      "Solved in 0 iterations and 0.01 seconds\n",
      "Optimal objective  4.000000000e+00\n",
      "0.0 0.0 2.0\n"
     ]
    }
   ],
   "source": [
    "# First, we define a variable that contains the optimization model\n",
    "m = gp.Model(\"primal\")\n",
    "\n",
    "# Next, we define the three decision variables with their respective lower and upper bounds\n",
    "x = m.addVar(lb = 0) # 0<= x\n",
    "y = m.addVar(lb = 0) # 0<= y\n",
    "z = m.addVar(lb=-gp.GRB.INFINITY) # z can be anything\n",
    "\n",
    "# Then, we give bounds on x and y being at most 10, respectively 12\n",
    "bound_x = m.addConstr(x<=10) \n",
    "bound_y = m.addConstr(y<=12) \n",
    "\n",
    "# Then, we add the other constraints\n",
    "c1 = m.addConstr(3*x+y+5*z<=10) # 3x + y + 5z<=10\n",
    "c2 = m.addConstr(x+3*y<=12) # x + 3y<=12\n",
    "c3 = m.addConstr(3*z>=6) # 3*z>=6\n",
    "\n",
    "# Next, we set our objective: maximizing x+3y+2z\n",
    "m.setObjective(x+3*y+2*z, gp.GRB.MAXIMIZE)\n",
    "\n",
    "m.optimize()\n",
    "\n",
    "# Then we print the solution values for each variable\n",
    "print(x.x,y.x,z.x)"
   ]
  },
  {
   "cell_type": "markdown",
   "metadata": {},
   "source": [
    "- Rewrite the LP with (i) all variables non-negative, (ii) all constraints with variables on the LHS <= parameters on the right-hand side (probably easiest to copy-paste from the markdown cell above, and then make changes where necessary)"
   ]
  },
  {
   "cell_type": "markdown",
   "metadata": {},
   "source": [
    "\n",
    "$\\max x + 3\\cdot y + 2\\cdot z$\n",
    "\n",
    "subject to:\n",
    "\n",
    "$x \\leq 10$\n",
    "\n",
    "$y \\leq 12$\n",
    "\n",
    "$3\\cdot x+y+5\\cdot z\\leq 10 $\n",
    "\n",
    "$x + 3\\cdot y\\leq 12$\n",
    "\n",
    "$-z\\leq -2$\n",
    "\n",
    "$x,y,z\\geq 0$"
   ]
  },
  {
   "cell_type": "markdown",
   "metadata": {},
   "source": [
    "- On paper (no need to submit), write out the dual of this LP"
   ]
  },
  {
   "cell_type": "markdown",
   "metadata": {},
   "source": [
    "- Implement dual of the LP in gurobi, solve it, and verify that strong duality holds, i.e., that the optimal solutions of primal and dual match."
   ]
  },
  {
   "cell_type": "code",
   "execution_count": 4,
   "metadata": {},
   "outputs": [
    {
     "name": "stdout",
     "output_type": "stream",
     "text": [
      "Gurobi Optimizer version 9.0.2 build v9.0.2rc0 (mac64)\n",
      "Optimize a model with 3 rows, 5 columns and 8 nonzeros\n",
      "Model fingerprint: 0x2e54ecb6\n",
      "Coefficient statistics:\n",
      "  Matrix range     [1e+00, 5e+00]\n",
      "  Objective range  [2e+00, 1e+01]\n",
      "  Bounds range     [0e+00, 0e+00]\n",
      "  RHS range        [1e+00, 3e+00]\n",
      "Presolve removed 3 rows and 5 columns\n",
      "Presolve time: 0.02s\n",
      "Presolve: All rows and columns removed\n",
      "Iteration    Objective       Primal Inf.    Dual Inf.      Time\n",
      "       0    4.0000000e+00   0.000000e+00   0.000000e+00      0s\n",
      "\n",
      "Solved in 0 iterations and 0.02 seconds\n",
      "Optimal objective  4.000000000e+00\n",
      "0.0 0.0 3.0 0.0 13.0\n"
     ]
    }
   ],
   "source": [
    "# First, we define a variable that contains the optimization model\n",
    "m2 = gp.Model(\"dual\")\n",
    "\n",
    "# Next, we define the three decision variables with their respective lower and upper bounds\n",
    "a = m2.addVar(lb=0)\n",
    "b = m2.addVar(lb=0)\n",
    "c = m2.addVar(lb=0)\n",
    "d = m2.addVar(lb=0)\n",
    "e = m2.addVar(lb=0)\n",
    "    \n",
    "dc1 = m2.addConstr(a + 3 * c + d >= 1)\n",
    "dc2 = m2.addConstr(b + c + 3 * d >= 3)\n",
    "dc2 = m2.addConstr(5 * c - e >= 2)\n",
    "\n",
    "# Next, we set our objective: maximizing x+3y+2z\n",
    "m2.setObjective(10 * a + 12 * b + 10 * c + 12 * d - 2 * e, gp.GRB.MINIMIZE)\n",
    "\n",
    "m2.optimize()\n",
    "\n",
    "# Then we print the solution values for each variable\n",
    "print(a.x, b.x, c.x, d.x, e.x)"
   ]
  },
  {
   "cell_type": "markdown",
   "metadata": {},
   "source": [
    "- In class we discussed the idea of shadow prices and sensitivity analysis. In Gurobi, as we saw in class, we can find the dual variable of a constraint c by typing c.pi, so for example:"
   ]
  },
  {
   "cell_type": "code",
   "execution_count": 5,
   "metadata": {
    "scrolled": true
   },
   "outputs": [
    {
     "data": {
      "text/plain": [
       "3.0"
      ]
     },
     "execution_count": 5,
     "metadata": {},
     "output_type": "execute_result"
    }
   ],
   "source": [
    "c1.pi"
   ]
  },
  {
   "cell_type": "markdown",
   "metadata": {},
   "source": [
    "Can you give a shadow price explanation of what c1.pi being equal to 3 means? Write out, and solve, a new LP (in Gurobi) that illustrates the shadow price of c1 being 3. Do the same for one of the other constraints (c2 or c3), and explain your findings."
   ]
  },
  {
   "cell_type": "code",
   "execution_count": 6,
   "metadata": {},
   "outputs": [
    {
     "name": "stdout",
     "output_type": "stream",
     "text": [
      "Gurobi Optimizer version 9.0.2 build v9.0.2rc0 (mac64)\n",
      "Optimize a model with 5 rows, 3 columns and 8 nonzeros\n",
      "Model fingerprint: 0xbeef9b92\n",
      "Coefficient statistics:\n",
      "  Matrix range     [1e+00, 5e+00]\n",
      "  Objective range  [1e+00, 3e+00]\n",
      "  Bounds range     [0e+00, 0e+00]\n",
      "  RHS range        [6e+00, 1e+01]\n",
      "Presolve removed 5 rows and 3 columns\n",
      "Presolve time: 0.01s\n",
      "Presolve: All rows and columns removed\n",
      "Iteration    Objective       Primal Inf.    Dual Inf.      Time\n",
      "       0    7.0000000e+00   0.000000e+00   0.000000e+00      0s\n",
      "\n",
      "Solved in 0 iterations and 0.01 seconds\n",
      "Optimal objective  7.000000000e+00\n",
      "0.0 1.0 2.0\n"
     ]
    }
   ],
   "source": [
    "# First, we define a variable that contains the optimization model\n",
    "m = gp.Model(\"primal\")\n",
    "\n",
    "# Next, we define the three decision variables with their respective lower and upper bounds\n",
    "x = m.addVar(lb = 0) # 0<= x\n",
    "y = m.addVar(lb = 0) # 0<= y\n",
    "z = m.addVar(lb=-gp.GRB.INFINITY) # z can be anything\n",
    "\n",
    "# Then, we give bounds on x and y being at most 10, respectively 12\n",
    "bound_x = m.addConstr(x<=10) \n",
    "bound_y = m.addConstr(y<=12) \n",
    "\n",
    "# Then, we add the other constraints\n",
    "c1 = m.addConstr(3*x+y+5*z<=11) # 3x + y + 5z<=10 became 11 on the RHS; the objective goes up by at most 3\n",
    "c2 = m.addConstr(x+3*y<=12) # x + 3y<=12\n",
    "c3 = m.addConstr(3*z>=6) # 3*z>=6\n",
    "\n",
    "# Next, we set our objective: maximizing x+3y+2z\n",
    "m.setObjective(x+3*y+2*z, gp.GRB.MAXIMIZE)\n",
    "\n",
    "m.optimize()\n",
    "\n",
    "# Then we print the solution values for each variable\n",
    "print(x.x,y.x,z.x)"
   ]
  },
  {
   "cell_type": "markdown",
   "metadata": {},
   "source": [
    "Findings explained:\n",
    "\n",
    "The value of the dual price is the _shadow price_ of that constraint. We can see it as the local derivative of the objective with respect to the right hand side constraint. Thus, for every unit of increment on the right hand side constraint, we should see (up to) one unit of increment on the objective. \n",
    "\n",
    "Indeed, as we created an LP whose right hand side for the first constraint is 1 unit larger, the objective increased in 3 * 1 units."
   ]
  },
  {
   "cell_type": "markdown",
   "metadata": {},
   "source": [
    "#### Problem 3: Minimize transportation costs\n",
    "\n",
    "Consider the following supply network where the number on each arc indicates the per-unit cost of shipping from one location to another. The supply at the factories is the number of units each factory can provide, the demand next to customers indicate how many units are needed."
   ]
  },
  {
   "cell_type": "code",
   "execution_count": 7,
   "metadata": {},
   "outputs": [
    {
     "ename": "FileNotFoundError",
     "evalue": "No such file or directory: 'warehouse_network.png'",
     "output_type": "error",
     "traceback": [
      "\u001b[0;31m---------------------------------------------------------------------------\u001b[0m",
      "\u001b[0;31mTypeError\u001b[0m                                 Traceback (most recent call last)",
      "\u001b[0;32m~/anaconda3/lib/python3.7/site-packages/IPython/core/display.py\u001b[0m in \u001b[0;36m_data_and_metadata\u001b[0;34m(self, always_both)\u001b[0m\n\u001b[1;32m   1264\u001b[0m         \u001b[0;32mtry\u001b[0m\u001b[0;34m:\u001b[0m\u001b[0;34m\u001b[0m\u001b[0;34m\u001b[0m\u001b[0m\n\u001b[0;32m-> 1265\u001b[0;31m             \u001b[0mb64_data\u001b[0m \u001b[0;34m=\u001b[0m \u001b[0mb2a_base64\u001b[0m\u001b[0;34m(\u001b[0m\u001b[0mself\u001b[0m\u001b[0;34m.\u001b[0m\u001b[0mdata\u001b[0m\u001b[0;34m)\u001b[0m\u001b[0;34m.\u001b[0m\u001b[0mdecode\u001b[0m\u001b[0;34m(\u001b[0m\u001b[0;34m'ascii'\u001b[0m\u001b[0;34m)\u001b[0m\u001b[0;34m\u001b[0m\u001b[0;34m\u001b[0m\u001b[0m\n\u001b[0m\u001b[1;32m   1266\u001b[0m         \u001b[0;32mexcept\u001b[0m \u001b[0mTypeError\u001b[0m\u001b[0;34m:\u001b[0m\u001b[0;34m\u001b[0m\u001b[0;34m\u001b[0m\u001b[0m\n",
      "\u001b[0;31mTypeError\u001b[0m: a bytes-like object is required, not 'str'",
      "\nDuring handling of the above exception, another exception occurred:\n",
      "\u001b[0;31mFileNotFoundError\u001b[0m                         Traceback (most recent call last)",
      "\u001b[0;32m~/anaconda3/lib/python3.7/site-packages/IPython/core/formatters.py\u001b[0m in \u001b[0;36m__call__\u001b[0;34m(self, obj, include, exclude)\u001b[0m\n\u001b[1;32m    968\u001b[0m \u001b[0;34m\u001b[0m\u001b[0m\n\u001b[1;32m    969\u001b[0m             \u001b[0;32mif\u001b[0m \u001b[0mmethod\u001b[0m \u001b[0;32mis\u001b[0m \u001b[0;32mnot\u001b[0m \u001b[0;32mNone\u001b[0m\u001b[0;34m:\u001b[0m\u001b[0;34m\u001b[0m\u001b[0;34m\u001b[0m\u001b[0m\n\u001b[0;32m--> 970\u001b[0;31m                 \u001b[0;32mreturn\u001b[0m \u001b[0mmethod\u001b[0m\u001b[0;34m(\u001b[0m\u001b[0minclude\u001b[0m\u001b[0;34m=\u001b[0m\u001b[0minclude\u001b[0m\u001b[0;34m,\u001b[0m \u001b[0mexclude\u001b[0m\u001b[0;34m=\u001b[0m\u001b[0mexclude\u001b[0m\u001b[0;34m)\u001b[0m\u001b[0;34m\u001b[0m\u001b[0;34m\u001b[0m\u001b[0m\n\u001b[0m\u001b[1;32m    971\u001b[0m             \u001b[0;32mreturn\u001b[0m \u001b[0;32mNone\u001b[0m\u001b[0;34m\u001b[0m\u001b[0;34m\u001b[0m\u001b[0m\n\u001b[1;32m    972\u001b[0m         \u001b[0;32melse\u001b[0m\u001b[0;34m:\u001b[0m\u001b[0;34m\u001b[0m\u001b[0;34m\u001b[0m\u001b[0m\n",
      "\u001b[0;32m~/anaconda3/lib/python3.7/site-packages/IPython/core/display.py\u001b[0m in \u001b[0;36m_repr_mimebundle_\u001b[0;34m(self, include, exclude)\u001b[0m\n\u001b[1;32m   1253\u001b[0m         \u001b[0;32mif\u001b[0m \u001b[0mself\u001b[0m\u001b[0;34m.\u001b[0m\u001b[0membed\u001b[0m\u001b[0;34m:\u001b[0m\u001b[0;34m\u001b[0m\u001b[0;34m\u001b[0m\u001b[0m\n\u001b[1;32m   1254\u001b[0m             \u001b[0mmimetype\u001b[0m \u001b[0;34m=\u001b[0m \u001b[0mself\u001b[0m\u001b[0;34m.\u001b[0m\u001b[0m_mimetype\u001b[0m\u001b[0;34m\u001b[0m\u001b[0;34m\u001b[0m\u001b[0m\n\u001b[0;32m-> 1255\u001b[0;31m             \u001b[0mdata\u001b[0m\u001b[0;34m,\u001b[0m \u001b[0mmetadata\u001b[0m \u001b[0;34m=\u001b[0m \u001b[0mself\u001b[0m\u001b[0;34m.\u001b[0m\u001b[0m_data_and_metadata\u001b[0m\u001b[0;34m(\u001b[0m\u001b[0malways_both\u001b[0m\u001b[0;34m=\u001b[0m\u001b[0;32mTrue\u001b[0m\u001b[0;34m)\u001b[0m\u001b[0;34m\u001b[0m\u001b[0;34m\u001b[0m\u001b[0m\n\u001b[0m\u001b[1;32m   1256\u001b[0m             \u001b[0;32mif\u001b[0m \u001b[0mmetadata\u001b[0m\u001b[0;34m:\u001b[0m\u001b[0;34m\u001b[0m\u001b[0;34m\u001b[0m\u001b[0m\n\u001b[1;32m   1257\u001b[0m                 \u001b[0mmetadata\u001b[0m \u001b[0;34m=\u001b[0m \u001b[0;34m{\u001b[0m\u001b[0mmimetype\u001b[0m\u001b[0;34m:\u001b[0m \u001b[0mmetadata\u001b[0m\u001b[0;34m}\u001b[0m\u001b[0;34m\u001b[0m\u001b[0;34m\u001b[0m\u001b[0m\n",
      "\u001b[0;32m~/anaconda3/lib/python3.7/site-packages/IPython/core/display.py\u001b[0m in \u001b[0;36m_data_and_metadata\u001b[0;34m(self, always_both)\u001b[0m\n\u001b[1;32m   1266\u001b[0m         \u001b[0;32mexcept\u001b[0m \u001b[0mTypeError\u001b[0m\u001b[0;34m:\u001b[0m\u001b[0;34m\u001b[0m\u001b[0;34m\u001b[0m\u001b[0m\n\u001b[1;32m   1267\u001b[0m             raise FileNotFoundError(\n\u001b[0;32m-> 1268\u001b[0;31m                 \"No such file or directory: '%s'\" % (self.data))\n\u001b[0m\u001b[1;32m   1269\u001b[0m         \u001b[0mmd\u001b[0m \u001b[0;34m=\u001b[0m \u001b[0;34m{\u001b[0m\u001b[0;34m}\u001b[0m\u001b[0;34m\u001b[0m\u001b[0;34m\u001b[0m\u001b[0m\n\u001b[1;32m   1270\u001b[0m         \u001b[0;32mif\u001b[0m \u001b[0mself\u001b[0m\u001b[0;34m.\u001b[0m\u001b[0mmetadata\u001b[0m\u001b[0;34m:\u001b[0m\u001b[0;34m\u001b[0m\u001b[0;34m\u001b[0m\u001b[0m\n",
      "\u001b[0;31mFileNotFoundError\u001b[0m: No such file or directory: 'warehouse_network.png'"
     ]
    },
    {
     "ename": "FileNotFoundError",
     "evalue": "No such file or directory: 'warehouse_network.png'",
     "output_type": "error",
     "traceback": [
      "\u001b[0;31m---------------------------------------------------------------------------\u001b[0m",
      "\u001b[0;31mTypeError\u001b[0m                                 Traceback (most recent call last)",
      "\u001b[0;32m~/anaconda3/lib/python3.7/site-packages/IPython/core/display.py\u001b[0m in \u001b[0;36m_data_and_metadata\u001b[0;34m(self, always_both)\u001b[0m\n\u001b[1;32m   1264\u001b[0m         \u001b[0;32mtry\u001b[0m\u001b[0;34m:\u001b[0m\u001b[0;34m\u001b[0m\u001b[0;34m\u001b[0m\u001b[0m\n\u001b[0;32m-> 1265\u001b[0;31m             \u001b[0mb64_data\u001b[0m \u001b[0;34m=\u001b[0m \u001b[0mb2a_base64\u001b[0m\u001b[0;34m(\u001b[0m\u001b[0mself\u001b[0m\u001b[0;34m.\u001b[0m\u001b[0mdata\u001b[0m\u001b[0;34m)\u001b[0m\u001b[0;34m.\u001b[0m\u001b[0mdecode\u001b[0m\u001b[0;34m(\u001b[0m\u001b[0;34m'ascii'\u001b[0m\u001b[0;34m)\u001b[0m\u001b[0;34m\u001b[0m\u001b[0;34m\u001b[0m\u001b[0m\n\u001b[0m\u001b[1;32m   1266\u001b[0m         \u001b[0;32mexcept\u001b[0m \u001b[0mTypeError\u001b[0m\u001b[0;34m:\u001b[0m\u001b[0;34m\u001b[0m\u001b[0;34m\u001b[0m\u001b[0m\n",
      "\u001b[0;31mTypeError\u001b[0m: a bytes-like object is required, not 'str'",
      "\nDuring handling of the above exception, another exception occurred:\n",
      "\u001b[0;31mFileNotFoundError\u001b[0m                         Traceback (most recent call last)",
      "\u001b[0;32m~/anaconda3/lib/python3.7/site-packages/IPython/core/formatters.py\u001b[0m in \u001b[0;36m__call__\u001b[0;34m(self, obj)\u001b[0m\n\u001b[1;32m    343\u001b[0m             \u001b[0mmethod\u001b[0m \u001b[0;34m=\u001b[0m \u001b[0mget_real_method\u001b[0m\u001b[0;34m(\u001b[0m\u001b[0mobj\u001b[0m\u001b[0;34m,\u001b[0m \u001b[0mself\u001b[0m\u001b[0;34m.\u001b[0m\u001b[0mprint_method\u001b[0m\u001b[0;34m)\u001b[0m\u001b[0;34m\u001b[0m\u001b[0;34m\u001b[0m\u001b[0m\n\u001b[1;32m    344\u001b[0m             \u001b[0;32mif\u001b[0m \u001b[0mmethod\u001b[0m \u001b[0;32mis\u001b[0m \u001b[0;32mnot\u001b[0m \u001b[0;32mNone\u001b[0m\u001b[0;34m:\u001b[0m\u001b[0;34m\u001b[0m\u001b[0;34m\u001b[0m\u001b[0m\n\u001b[0;32m--> 345\u001b[0;31m                 \u001b[0;32mreturn\u001b[0m \u001b[0mmethod\u001b[0m\u001b[0;34m(\u001b[0m\u001b[0;34m)\u001b[0m\u001b[0;34m\u001b[0m\u001b[0;34m\u001b[0m\u001b[0m\n\u001b[0m\u001b[1;32m    346\u001b[0m             \u001b[0;32mreturn\u001b[0m \u001b[0;32mNone\u001b[0m\u001b[0;34m\u001b[0m\u001b[0;34m\u001b[0m\u001b[0m\n\u001b[1;32m    347\u001b[0m         \u001b[0;32melse\u001b[0m\u001b[0;34m:\u001b[0m\u001b[0;34m\u001b[0m\u001b[0;34m\u001b[0m\u001b[0m\n",
      "\u001b[0;32m~/anaconda3/lib/python3.7/site-packages/IPython/core/display.py\u001b[0m in \u001b[0;36m_repr_png_\u001b[0;34m(self)\u001b[0m\n\u001b[1;32m   1283\u001b[0m     \u001b[0;32mdef\u001b[0m \u001b[0m_repr_png_\u001b[0m\u001b[0;34m(\u001b[0m\u001b[0mself\u001b[0m\u001b[0;34m)\u001b[0m\u001b[0;34m:\u001b[0m\u001b[0;34m\u001b[0m\u001b[0;34m\u001b[0m\u001b[0m\n\u001b[1;32m   1284\u001b[0m         \u001b[0;32mif\u001b[0m \u001b[0mself\u001b[0m\u001b[0;34m.\u001b[0m\u001b[0membed\u001b[0m \u001b[0;32mand\u001b[0m \u001b[0mself\u001b[0m\u001b[0;34m.\u001b[0m\u001b[0mformat\u001b[0m \u001b[0;34m==\u001b[0m \u001b[0mself\u001b[0m\u001b[0;34m.\u001b[0m\u001b[0m_FMT_PNG\u001b[0m\u001b[0;34m:\u001b[0m\u001b[0;34m\u001b[0m\u001b[0;34m\u001b[0m\u001b[0m\n\u001b[0;32m-> 1285\u001b[0;31m             \u001b[0;32mreturn\u001b[0m \u001b[0mself\u001b[0m\u001b[0;34m.\u001b[0m\u001b[0m_data_and_metadata\u001b[0m\u001b[0;34m(\u001b[0m\u001b[0;34m)\u001b[0m\u001b[0;34m\u001b[0m\u001b[0;34m\u001b[0m\u001b[0m\n\u001b[0m\u001b[1;32m   1286\u001b[0m \u001b[0;34m\u001b[0m\u001b[0m\n\u001b[1;32m   1287\u001b[0m     \u001b[0;32mdef\u001b[0m \u001b[0m_repr_jpeg_\u001b[0m\u001b[0;34m(\u001b[0m\u001b[0mself\u001b[0m\u001b[0;34m)\u001b[0m\u001b[0;34m:\u001b[0m\u001b[0;34m\u001b[0m\u001b[0;34m\u001b[0m\u001b[0m\n",
      "\u001b[0;32m~/anaconda3/lib/python3.7/site-packages/IPython/core/display.py\u001b[0m in \u001b[0;36m_data_and_metadata\u001b[0;34m(self, always_both)\u001b[0m\n\u001b[1;32m   1266\u001b[0m         \u001b[0;32mexcept\u001b[0m \u001b[0mTypeError\u001b[0m\u001b[0;34m:\u001b[0m\u001b[0;34m\u001b[0m\u001b[0;34m\u001b[0m\u001b[0m\n\u001b[1;32m   1267\u001b[0m             raise FileNotFoundError(\n\u001b[0;32m-> 1268\u001b[0;31m                 \"No such file or directory: '%s'\" % (self.data))\n\u001b[0m\u001b[1;32m   1269\u001b[0m         \u001b[0mmd\u001b[0m \u001b[0;34m=\u001b[0m \u001b[0;34m{\u001b[0m\u001b[0;34m}\u001b[0m\u001b[0;34m\u001b[0m\u001b[0;34m\u001b[0m\u001b[0m\n\u001b[1;32m   1270\u001b[0m         \u001b[0;32mif\u001b[0m \u001b[0mself\u001b[0m\u001b[0;34m.\u001b[0m\u001b[0mmetadata\u001b[0m\u001b[0;34m:\u001b[0m\u001b[0;34m\u001b[0m\u001b[0;34m\u001b[0m\u001b[0m\n",
      "\u001b[0;31mFileNotFoundError\u001b[0m: No such file or directory: 'warehouse_network.png'"
     ]
    },
    {
     "data": {
      "text/plain": [
       "<IPython.core.display.Image object>"
      ]
     },
     "execution_count": 7,
     "metadata": {},
     "output_type": "execute_result"
    }
   ],
   "source": [
    "# DO NOT RUN THIS CELL, ELSE YOU'LL LOSE THE PICTURE OF THE NETWORK!\n",
    "Image(\"warehouse_network.png\")"
   ]
  },
  {
   "cell_type": "markdown",
   "metadata": {},
   "source": [
    "Our goal here is to satisfy all the demand while respecting the supply constraints at the factories, and minimizing the total cost of shipping."
   ]
  },
  {
   "cell_type": "markdown",
   "metadata": {},
   "source": [
    "- What decision variables would you use to find the optimal shipments"
   ]
  },
  {
   "cell_type": "markdown",
   "metadata": {},
   "source": [
    "Let $$A=\\{(1,4), (1,5), (1,6), (2,6), (2,7), (3,5), (3,8)\\}$$ be the set of arcs from factories to local warehouses and $$B=\\{(4,9), (5,12), (6,9), (6,10), (7,10), (7,11), (8,11), (8,12)\\}$$ be the set of arcs from local warehouses to customers.\n",
    "\n",
    "We have two sets of variables:\n",
    "- Flow of units from factories to local warehouses:\n",
    "$x_{ij}$, with $(i,j)\\in A$\n",
    "- Flow of units local warehouses to customers:\n",
    "$y_{jk}$, with $(j,k)\\in B$"
   ]
  },
  {
   "cell_type": "markdown",
   "metadata": {},
   "source": [
    "- How would you encode the objective of this LP?"
   ]
  },
  {
   "cell_type": "markdown",
   "metadata": {},
   "source": [
    "Let $c_{ij}$ denote the cost of each arc. Then, the objective is to minimize the total cost of units that are shipped trhough the network:\n",
    "$$\\sum_{(i,j)\\in A} c_{ij}x_{ij} + \\sum_{(j,k)\\in B} c_{jk}y_{jk}$$"
   ]
  },
  {
   "cell_type": "markdown",
   "metadata": {},
   "source": [
    "- What kind of constraints will a LP require to solve this question? First describe the effect each constraint would have in English, then write them out."
   ]
  },
  {
   "cell_type": "markdown",
   "metadata": {},
   "source": [
    "0. Firstly, we need non-negativity on the flows (no negative units):\n",
    "$$x_{ij}\\geq 0,\\ y_{ij}\\geq 0$$\n",
    "\n",
    "1. We need a constraint that ensures that we don't exceed supply:\n",
    "$$\\sum_{j=4}^8 x_{ij} \\leq Supply_j,\\ \\forall i\\in\\{1,2,3\\}$$\n",
    "\n",
    "2. Another constraint that enforces that we satisfy the demand:\n",
    "$$\\sum_{j=4}^8 y_{jk} \\geq Demand_k,\\forall k\\in\\{9,10,11,12\\}$$\n",
    "\n",
    "3. Finally, a third constraint that ensures that the amount of inventory in the warehouse is non-negative:\n",
    "$$\\sum_{i=1}^3 x_{ij} - \\sum_{k=9}^{12} y_{jk} \\geq 0,\\ \\forall j\\in\\{4,5,6,7,8\\}$$"
   ]
  },
  {
   "cell_type": "markdown",
   "metadata": {},
   "source": [
    "- Solve the problem in Gurobi. Make sure to save all the constraints you use (in dictionaries or as variablees), so you can later access them. "
   ]
  },
  {
   "cell_type": "code",
   "execution_count": 8,
   "metadata": {},
   "outputs": [
    {
     "name": "stdout",
     "output_type": "stream",
     "text": [
      "[(1, 4), (1, 5), (1, 6), (2, 6), (2, 7), (3, 5), (3, 8)]\n",
      "[(4, 9), (5, 12), (6, 9), (6, 10), (7, 10), (7, 11), (8, 11), (8, 12)]\n"
     ]
    }
   ],
   "source": [
    "# Input Data\n",
    "\n",
    "supply = {1: 90,\n",
    "          2: 40,\n",
    "          3: 70}\n",
    "\n",
    "demand = {9: 30,\n",
    "          10: 50,\n",
    "          11: 60,\n",
    "          12: 60}\n",
    "\n",
    "cost = {(1,4): 5, \n",
    "        (1,5): 10,\n",
    "        (1,6): 11,\n",
    "        (2,6): 9,\n",
    "        (2,7): 9, \n",
    "        (3,5): 8,\n",
    "        (3,8): 7,\n",
    "        (4,9): 17,\n",
    "        (5,12): 10,\n",
    "        (6,9): 11,\n",
    "        (6,10): 10,\n",
    "        (7,10): 12,\n",
    "        (7,11): 13,\n",
    "        (8,11): 11,\n",
    "        (8,12): 14}\n",
    "\n",
    "A = list(cost.keys())[:7]\n",
    "B = list(cost.keys())[7:]\n",
    "print(A)\n",
    "print(B)"
   ]
  },
  {
   "cell_type": "code",
   "execution_count": 9,
   "metadata": {},
   "outputs": [
    {
     "name": "stdout",
     "output_type": "stream",
     "text": [
      "Gurobi Optimizer version 9.0.2 build v9.0.2rc0 (mac64)\n",
      "Optimize a model with 12 rows, 15 columns and 30 nonzeros\n",
      "Model fingerprint: 0xd1351068\n",
      "Coefficient statistics:\n",
      "  Matrix range     [1e+00, 1e+00]\n",
      "  Objective range  [5e+00, 2e+01]\n",
      "  Bounds range     [0e+00, 0e+00]\n",
      "  RHS range        [3e+01, 9e+01]\n",
      "Presolve removed 3 rows and 3 columns\n",
      "Presolve time: 0.01s\n",
      "Presolved: 9 rows, 12 columns, 24 nonzeros\n",
      "\n",
      "Iteration    Objective       Primal Inf.    Dual Inf.      Time\n",
      "       0    1.5800000e+03   1.750000e+01   0.000000e+00      0s\n",
      "       7    3.8900000e+03   0.000000e+00   0.000000e+00      0s\n",
      "\n",
      "Solved in 7 iterations and 0.01 seconds\n",
      "Optimal objective  3.890000000e+03\n"
     ]
    }
   ],
   "source": [
    "m = gp.Model('network')\n",
    "\n",
    "# Create variables\n",
    "x = {}\n",
    "for e in A:\n",
    "    x[e] = m.addVar(lb=0)\n",
    "\n",
    "y = {}\n",
    "for e in B:\n",
    "    y[e] = m.addVar(lb=0)\n",
    "\n",
    "# Set objective\n",
    "m.setObjective(sum(cost[e] * x[e] for e in A) + sum(cost[e] * y[e] for e in B))\n",
    "\n",
    "# Add constraints\n",
    "s = {} # Supply constraint\n",
    "for i in range(1, 4): \n",
    "    s[i] = m.addConstr(sum(x[e] for e in A if e[0] == i) <= supply[i])\n",
    "\n",
    "d = {} # Demand constraint\n",
    "for k in range(9, 13): \n",
    "    d[k] = m.addConstr(sum(y[e] for e in B if e[1] == k) >= demand[k])\n",
    "\n",
    "b = {} # Balance constraint\n",
    "for j in range(4, 9): \n",
    "    b[j] = m.addConstr(sum(x[e] for e in A if e[1] == j) - sum(y[e] for e in B if e[0] == j) >= 0)\n",
    "    \n",
    "# Optimize\n",
    "m.optimize()"
   ]
  },
  {
   "cell_type": "markdown",
   "metadata": {},
   "source": [
    "- Your LP should have a constraint limiting the amount of supply coming out of factory 2. Query gurobi for the shadow price of that constraint. Then, rerun the optimization with that constraint somewhat relaxed, and give an intuitive economic explanation for the value of the shadow price (i.e., explain the value, in shipping costs, of increasing the capacity of factory 2), as well as how that value is created."
   ]
  },
  {
   "cell_type": "code",
   "execution_count": 10,
   "metadata": {},
   "outputs": [
    {
     "data": {
      "text/plain": [
       "-2.0"
      ]
     },
     "execution_count": 10,
     "metadata": {},
     "output_type": "execute_result"
    }
   ],
   "source": [
    "s[2].Pi"
   ]
  },
  {
   "cell_type": "code",
   "execution_count": 11,
   "metadata": {},
   "outputs": [
    {
     "name": "stdout",
     "output_type": "stream",
     "text": [
      "Gurobi Optimizer version 9.0.2 build v9.0.2rc0 (mac64)\n",
      "Optimize a model with 12 rows, 15 columns and 30 nonzeros\n",
      "Model fingerprint: 0x962ac4e4\n",
      "Coefficient statistics:\n",
      "  Matrix range     [1e+00, 1e+00]\n",
      "  Objective range  [5e+00, 2e+01]\n",
      "  Bounds range     [0e+00, 0e+00]\n",
      "  RHS range        [3e+01, 9e+01]\n",
      "Presolve removed 3 rows and 3 columns\n",
      "Presolve time: 0.01s\n",
      "Presolved: 9 rows, 12 columns, 24 nonzeros\n",
      "\n",
      "Iteration    Objective       Primal Inf.    Dual Inf.      Time\n",
      "       0    1.5800000e+03   1.750000e+01   0.000000e+00      0s\n",
      "       7    3.8880000e+03   0.000000e+00   0.000000e+00      0s\n",
      "\n",
      "Solved in 7 iterations and 0.01 seconds\n",
      "Optimal objective  3.888000000e+03\n"
     ]
    }
   ],
   "source": [
    "# Let's add one more unit of supply to factory 2\n",
    "\n",
    "m = gp.Model('network')\n",
    "\n",
    "# Create variables\n",
    "x = {}\n",
    "for e in A:\n",
    "    x[e] = m.addVar(lb=0)\n",
    "\n",
    "y = {}\n",
    "for e in B:\n",
    "    y[e] = m.addVar(lb=0)\n",
    "\n",
    "# Set objective\n",
    "m.setObjective(sum(cost[e] * x[e] for e in A) + sum(cost[e] * y[e] for e in B))\n",
    "\n",
    "# Add constraints\n",
    "s = {} # Supply constraint\n",
    "for i in range(1, 4): \n",
    "    s[i] = m.addConstr(sum(x[e] for e in A if e[0] == i) <= supply[i] + 1 * (i == 2))\n",
    "\n",
    "d = {} # Demand constraint\n",
    "for k in range(9, 13): \n",
    "    d[k] = m.addConstr(sum(y[e] for e in B if e[1] == k) >= demand[k])\n",
    "\n",
    "b = {} # Balance constraint\n",
    "for j in range(4, 9): \n",
    "    b[j] = m.addConstr(sum(x[e] for e in A if e[1] == j) - sum(y[e] for e in B if e[0] == j) >= 0)\n",
    "    \n",
    "# Optimize\n",
    "m.optimize()"
   ]
  },
  {
   "cell_type": "markdown",
   "metadata": {},
   "source": [
    "We observe that the cost is reduced by 2, which is to say that the objective changed in $1 \\cdot (-2) = 1 * \\pi_2$"
   ]
  },
  {
   "cell_type": "markdown",
   "metadata": {},
   "source": [
    "- Your LP should have a constraint that enforces that the amount of inventory in each warehouse is non-negative at the end of the optimization. Query the dual variable of that constraint, and explain its value."
   ]
  },
  {
   "cell_type": "code",
   "execution_count": 12,
   "metadata": {},
   "outputs": [
    {
     "name": "stdout",
     "output_type": "stream",
     "text": [
      "Warehouse 4: 5.0\n",
      "Warehouse 5: 10.0\n",
      "Warehouse 6: 11.0\n",
      "Warehouse 7: 11.0\n",
      "Warehouse 8: 9.0\n"
     ]
    }
   ],
   "source": [
    "for j in range(4, 9):\n",
    "    print('Warehouse '+ str(j) + ': ' + str(b[j].Pi))"
   ]
  },
  {
   "cell_type": "markdown",
   "metadata": {},
   "source": [
    "These are the shadows prices associated to the balance constraints. \n",
    "\n",
    "If the warehouses were required to store 1 unit, these would be the extra cost.\n",
    "\n",
    "If the warehouses could produce 1 unit, the negative of these values would be the extra savings from not havint to ship from the factory."
   ]
  },
  {
   "cell_type": "markdown",
   "metadata": {},
   "source": [
    "#### Problem 4: Facility location\n",
    "\n",
    "In class we saw the problem of the garbage deposit stations in Amsterdam. Here, we want to solve a related problem, called ``facility location with service installation costs``. We are given, in the problem, the following:\n",
    "\n",
    "- a set of customers that each have a service requirement\n",
    "- a set of facilities that each have an opening cost (cost depends on facility) \n",
    "- a service installation cost that enables a facility to provide a particular service (depends on the facility and the service)\n",
    "- an assignment cost of serving a customer through a facility (cost depends on facility and customer, but not on service)\n",
    "\n",
    "The goal is to find (i) the set of facilities to open, (ii) what services to install in each facility, and (iii) what customers to assign to what facility so as to minimize the total costs (incl. opening, installation, and assignment).\n",
    "\n",
    "Before you implement this in gurobi (with specific data), write down the decision variables and constraints we need to implement this optimization problem."
   ]
  },
  {
   "cell_type": "markdown",
   "metadata": {},
   "source": [
    "."
   ]
  },
  {
   "cell_type": "markdown",
   "metadata": {},
   "source": [
    "Now you should be ready to write the problem in gurobi. As usual, we first load all the data."
   ]
  },
  {
   "cell_type": "code",
   "execution_count": 13,
   "metadata": {},
   "outputs": [],
   "source": [
    "# These lists contain the facilities, the services, and the customers\n",
    "facilities = ['f1', 'f2', 'f3']\n",
    "services = ['s1', 's2', 's3', 's4']\n",
    "customers = ['c1', 'c2', 'c3','c4','c5','c6', 'c7']\n",
    "\n",
    "# the cost of opening any one facility are as follows\n",
    "facility_opening_costs = {'f1': 13, 'f2': 15, 'f3': 12}\n",
    "\n",
    "# Below are the costs of installing a service in an opened facility\n",
    "# Notice that it's given in a so-called \"nested dictionary\"; the cost of installing service \n",
    "# s3 at facility f1 is service_installation_costs['f1']['s3'] which turns out \n",
    "# to be 1 (in this example)\n",
    "service_installation_costs = {'f1': {'s1':2, 's2':4, 's3':1, 's4':2},\n",
    "                              'f2': {'s1':1, 's2':1, 's3':1, 's4':0},\n",
    "                              'f3': {'s1':2, 's2':4, 's3':1, 's4':2}}\n",
    "\n",
    "# For each customer, the below dictionary captures what service they require\n",
    "customer_service_needs = {'c1': 's1', 'c2': 's1', 'c3': 's2', \n",
    "                          'c4':'s2', 'c5':'s3', 'c6': 's3', 'c7':'s4'}\n",
    "\n",
    "# For each pair of customer and facility, this nested dictionary captures \n",
    "# the cost of connecting facility f and customer c. so\n",
    "# facility_customer_assignment_costs['f3']['c4'] would give the cost of\n",
    "# connecting facility 3 and customer 4 (in this case: 6)\n",
    "facility_customer_assignment_costs = {'f1': {'c1':4, 'c2':4, 'c3':3, 'c4':4, 'c5':5, 'c6':7, 'c7':8},\n",
    "                                     'f2': {'c1':4, 'c2':4, 'c3':3, 'c4':4, 'c5':5, 'c6':7, 'c7':8},\n",
    "                                     'f3': {'c1':5, 'c2':2, 'c3':1, 'c4':6, 'c5':15, 'c6':6, 'c7':7}\n",
    "                                     }"
   ]
  },
  {
   "cell_type": "markdown",
   "metadata": {},
   "source": [
    "With that data given and your IP formulation written out above, you should be able to formulate this in gurobi (optimal solution should come out as 53). If you think your formulation is correct, but you're getting stuck here, reach out to the teaching team!\n",
    "\n",
    "To get full credit on this problem, make sure to not create variables and constraints one-by-one, i.e., the code you write should work if we were to add more facilities, services, or customers."
   ]
  },
  {
   "cell_type": "code",
   "execution_count": 14,
   "metadata": {},
   "outputs": [
    {
     "name": "stdout",
     "output_type": "stream",
     "text": [
      "Gurobi Optimizer version 9.0.2 build v9.0.2rc0 (mac64)\n",
      "Optimize a model with 40 rows, 36 columns and 87 nonzeros\n",
      "Model fingerprint: 0xbff3402c\n",
      "Variable types: 0 continuous, 36 integer (36 binary)\n",
      "Coefficient statistics:\n",
      "  Matrix range     [1e+00, 1e+00]\n",
      "  Objective range  [1e+00, 2e+01]\n",
      "  Bounds range     [1e+00, 1e+00]\n",
      "  RHS range        [1e+00, 1e+00]\n",
      "Found heuristic solution: objective 103.0000000\n",
      "Found heuristic solution: objective 89.0000000\n",
      "Presolve removed 3 rows and 3 columns\n",
      "Presolve time: 0.00s\n",
      "Presolved: 37 rows, 33 columns, 81 nonzeros\n",
      "Variable types: 0 continuous, 33 integer (33 binary)\n",
      "\n",
      "Root relaxation: objective 5.300000e+01, 26 iterations, 0.00 seconds\n",
      "\n",
      "    Nodes    |    Current Node    |     Objective Bounds      |     Work\n",
      " Expl Unexpl |  Obj  Depth IntInf | Incumbent    BestBd   Gap | It/Node Time\n",
      "\n",
      "*    0     0               0      53.0000000   53.00000  0.00%     -    0s\n",
      "\n",
      "Explored 0 nodes (26 simplex iterations) in 0.03 seconds\n",
      "Thread count was 8 (of 8 available processors)\n",
      "\n",
      "Solution count 3: 53 89 103 \n",
      "\n",
      "Optimal solution found (tolerance 1.00e-04)\n",
      "Best objective 5.300000000000e+01, best bound 5.300000000000e+01, gap 0.0000%\n",
      "f1 -0.0\n",
      "f2 1.0\n",
      "f3 0.0\n",
      "f2 c1\n",
      "f2 c2\n",
      "f2 c3\n",
      "f2 c4\n",
      "f2 c5\n",
      "f2 c6\n",
      "f2 c7\n"
     ]
    }
   ],
   "source": [
    "# Next, we define a gurobi optimization model\n",
    "m = gp.Model(\"model\")\n",
    "\n",
    "# And all the decision variables\n",
    "\n",
    "opening = {} #1 if facility f it is opened 0 if it is closed\n",
    "for f in facility_opening_costs:\n",
    "    opening[f] = m.addVar(name=f, vtype=gp.GRB.BINARY)\n",
    "\n",
    "service_installations = {}\n",
    "for f in service_installation_costs:\n",
    "    for service in service_installation_costs[f]: #1 if the service is being installed in f 0 if not\n",
    "        service_installations[f, service] = m.addVar(name=f+service, vtype=gp.GRB.BINARY)\n",
    "\n",
    "customer_assignments = {}\n",
    "for customer in customer_service_needs:\n",
    "    for facility in facility_opening_costs: #1 if the customer is assigned to the facility, 0 if not\n",
    "        customer_assignments[facility, customer] = m.addVar(name=customer+facility, vtype=gp.GRB.BINARY)\n",
    "\n",
    "# We can only install a service at a facility that is opened\n",
    "for facility in facilities:\n",
    "    for service in services:\n",
    "        m.addConstr(service_installations[facility, service] <= opening[facility])\n",
    "    \n",
    "# We can only assign a customer to a facility at which the required service is installeed \n",
    "for customer in customers:\n",
    "    service = customer_service_needs[customer]\n",
    "    for facility in facility_opening_costs:\n",
    "        m.addConstr(customer_assignments[facility, customer] <= service_installations[facility, service])\n",
    "#customer_assignments[facility, service] = 1 when the customer is assigned that faciltiy 0 otherwise\n",
    "#so the service_installations[facility, service] must be less than or equal to the customer assignments\n",
    "\n",
    "# Every customer needs to be assigned to a facility\n",
    "for customer in customers:\n",
    "    m.addConstr(sum(customer_assignments[facility, customer] for facility in facility_opening_costs) >= 1)\n",
    "\n",
    "# We want to minimize the combined cost; it is easier to create separate expressions for each component\n",
    "#OPENING COST\n",
    "opening_cost = sum(facility_opening_costs[facility]*opening[facility] for facility in facility_opening_costs)\n",
    "\n",
    "\n",
    "#INSTALLATION COST\n",
    "#service_installations[facility, service] = 1 when it's in that facility 0 when not\n",
    "installation_cost = sum(service_installations[facility, service]*service_installation_costs[facility][service]\n",
    "                       for facility in facility_opening_costs for service in services)\n",
    "\n",
    "#ASSIGNMENT COST\n",
    "assignment_cost = sum(customer_assignments[facility, customer]*facility_customer_assignment_costs[facility][customer] \n",
    "                      for facility in facility_opening_costs for customer in customer_service_needs)\n",
    "\n",
    "m.setObjective(opening_cost+installation_cost + assignment_cost, gp.GRB.MINIMIZE)\n",
    "\n",
    "m.optimize()\n",
    "\n",
    "for f in opening: print(f, opening[f].x)\n",
    "for f,c in customer_assignments:\n",
    "    if customer_assignments[f,c].x==1: print(f,c)"
   ]
  },
  {
   "cell_type": "markdown",
   "metadata": {},
   "source": [
    "Suppose we can only connect at most 4 customers to a facility. Take your previous optimization problem and solve it with such a constraint added for each facility (optimal solution should come out as 65)."
   ]
  },
  {
   "cell_type": "code",
   "execution_count": 15,
   "metadata": {},
   "outputs": [
    {
     "name": "stdout",
     "output_type": "stream",
     "text": [
      "Gurobi Optimizer version 9.0.2 build v9.0.2rc0 (mac64)\n",
      "Optimize a model with 43 rows, 36 columns and 108 nonzeros\n",
      "Model fingerprint: 0x01839b2e\n",
      "Variable types: 0 continuous, 36 integer (36 binary)\n",
      "Coefficient statistics:\n",
      "  Matrix range     [1e+00, 1e+00]\n",
      "  Objective range  [1e+00, 2e+01]\n",
      "  Bounds range     [1e+00, 1e+00]\n",
      "  RHS range        [1e+00, 4e+00]\n",
      "Found heuristic solution: objective 89.0000000\n",
      "Presolve removed 3 rows and 3 columns\n",
      "Presolve time: 0.00s\n",
      "Presolved: 40 rows, 33 columns, 102 nonzeros\n",
      "Variable types: 0 continuous, 33 integer (33 binary)\n",
      "\n",
      "Root relaxation: objective 5.471429e+01, 35 iterations, 0.00 seconds\n",
      "\n",
      "    Nodes    |    Current Node    |     Objective Bounds      |     Work\n",
      " Expl Unexpl |  Obj  Depth IntInf | Incumbent    BestBd   Gap | It/Node Time\n",
      "\n",
      "     0     0   54.71429    0   22   89.00000   54.71429  38.5%     -    0s\n",
      "H    0     0                      80.0000000   54.71429  31.6%     -    0s\n",
      "H    0     0                      66.0000000   54.71429  17.1%     -    0s\n",
      "H    0     0                      65.0000000   54.71429  15.8%     -    0s\n",
      "\n",
      "Cutting planes:\n",
      "  Gomory: 1\n",
      "  Zero half: 1\n",
      "\n",
      "Explored 1 nodes (35 simplex iterations) in 0.04 seconds\n",
      "Thread count was 8 (of 8 available processors)\n",
      "\n",
      "Solution count 4: 65 66 80 89 \n",
      "\n",
      "Optimal solution found (tolerance 1.00e-04)\n",
      "Best objective 6.500000000000e+01, best bound 6.500000000000e+01, gap 0.0000%\n",
      "f1 0.0\n",
      "f2 1.0\n",
      "f3 1.0\n",
      "f3 c1\n",
      "f3 c2\n",
      "f2 c3\n",
      "f2 c4\n",
      "f2 c5\n",
      "f3 c6\n",
      "f2 c7\n"
     ]
    }
   ],
   "source": [
    "# First, we definee a gurobi optimization model\n",
    "m = gp.Model(\"model\")\n",
    "\n",
    "# And all the decision variables\n",
    "\n",
    "opening = {} #1 if facility f it is opened 0 if it is closed\n",
    "for f in facility_opening_costs:\n",
    "    opening[f] = m.addVar(name=f, vtype=gp.GRB.BINARY)\n",
    "\n",
    "service_installations = {}\n",
    "for f in service_installation_costs:\n",
    "    for service in service_installation_costs[f]: #1 if the service is being installed in f 0 if not\n",
    "        service_installations[f, service] = m.addVar(name=f+service, vtype=gp.GRB.BINARY)\n",
    "\n",
    "customer_assignments = {}\n",
    "for customer in customer_service_needs:\n",
    "    for facility in facility_opening_costs: #1 if the customer is assigned to the facility, 0 if not\n",
    "        customer_assignments[facility, customer] = m.addVar(name=customer+facility, vtype=gp.GRB.BINARY)\n",
    "\n",
    "# We can only install a service at a facility that is opened\n",
    "for facility in facilities:\n",
    "    # HERE IS THE NEW CONSTRAINT THAT CAPACITATES NUMBER OF CUSTOMERS FOR A FACILITY\n",
    "    m.addConstr(sum(customer_assignments[facility, customer] for customer in customers)<=4)\n",
    "    for service in services:\n",
    "        m.addConstr(service_installations[facility, service] <= opening[facility])\n",
    "    \n",
    "# We can only assign a customer to a facility at which the required service is installeed \n",
    "for customer in customers:\n",
    "    service = customer_service_needs[customer]\n",
    "    for facility in facility_opening_costs:\n",
    "        m.addConstr(customer_assignments[facility, customer] <= service_installations[facility, service])\n",
    "        \n",
    "#customer_assignments[facility, service] = 1 when the customer is assigned that faciltiy \n",
    "#0 otherwise\n",
    "#so the service_installations[facility, service] must be less than or equal to the customer assignments\n",
    "\n",
    "# Every customer needs to be assigned to a facility\n",
    "for customer in customers:\n",
    "    m.addConstr(sum(customer_assignments[facility, customer] for facility in facility_opening_costs) >= 1)\n",
    "\n",
    "# We want to minimize the combined cost; it is easier to create separate expressions for each component\n",
    "#OPENING COST\n",
    "opening_cost = sum(facility_opening_costs[facility]*opening[facility] for facility in facility_opening_costs)\n",
    "\n",
    "\n",
    "#INSTALLATION COST\n",
    "#service_installations[facility, service] = 1 when it's in that facility 0 when not\n",
    "\n",
    "installation_cost = sum(service_installations[facility, service]*service_installation_costs[facility][service]\n",
    "                       for facility in facility_opening_costs for service in services)\n",
    "\n",
    "#ASSIGNMENT COST\n",
    "assignment_cost = sum(customer_assignments[facility, customer]*facility_customer_assignment_costs[facility][customer] \n",
    "                      for facility in facility_opening_costs for customer in customer_service_needs)\n",
    "\n",
    "m.setObjective(opening_cost+installation_cost + assignment_cost, gp.GRB.MINIMIZE)\n",
    "\n",
    "m.optimize()\n",
    "\n",
    "for f in opening: print(f, opening[f].x)\n",
    "for f,c in customer_assignments:\n",
    "    if customer_assignments[f,c].x==1: print(f,c)"
   ]
  }
 ],
 "metadata": {
  "kernelspec": {
   "display_name": "Python 3",
   "language": "python",
   "name": "python3"
  },
  "language_info": {
   "codemirror_mode": {
    "name": "ipython",
    "version": 3
   },
   "file_extension": ".py",
   "mimetype": "text/x-python",
   "name": "python",
   "nbconvert_exporter": "python",
   "pygments_lexer": "ipython3",
   "version": "3.7.3"
  }
 },
 "nbformat": 4,
 "nbformat_minor": 2
}
