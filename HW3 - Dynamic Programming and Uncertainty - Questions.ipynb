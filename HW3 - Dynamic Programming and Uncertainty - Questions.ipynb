{
 "cells": [
  {
   "cell_type": "markdown",
   "metadata": {},
   "source": [
    "## HW3 - Dynamic Programming and Uncertainty (Due 8/12)\n",
    "\n",
    "In this final homework assignment you will be asked to solve 1 IP and dynamic programming problems. The first DP will focus on a completely static offline problem. In the second, you may use both dynamic programming and some of the ideas we learned about in our 1-lecture simulation unit."
   ]
  },
  {
   "cell_type": "code",
   "execution_count": 1,
   "metadata": {},
   "outputs": [],
   "source": [
    "import numpy as np\n",
    "import gurobipy as gp\n",
    "import matplotlib.pyplot as plt"
   ]
  },
  {
   "cell_type": "markdown",
   "metadata": {},
   "source": [
    "#### Problem 1: Optimal Shift Planning\n",
    "\n",
    "In the planning of monthly production for the next months a company must, in each month, operate either a normal shift or an extended shift (if it produces at all - it can also \"not produce\"). We will aim to minimize the company's payroll costs while satisfying all production requirements. \n",
    "\n",
    "The payroll costs of a normal shift are (all costs are in USD) 100,000 per month, and in a month that is run as a normal shift up to 6,000 units can be produced. An extended shift month costs 180,000 and allows for production of between 6,000 and 11,000 units per month. Production constraints are such that if the company produces anything at all in a particular month it must produce at least 2,000 units.\n",
    "\n",
    "A month with no production happening costs 20,000. Note here that, for either type of shift, the cost incurred is fixed by a union guarantee agreement and so is independent of the amount produced.\n",
    "\n",
    "However, the company also incurs an cost of 100,000 each time it changes from a normal shift or a no-production shift in one month to an extended shift in the next month. No extra cost is incurred in changing the production schedule between any other types of shifts (e.g., from normal month to no production incurs 0 cost, same for going from an extended shift in one month to a normal shift in the next). This extra cost is also not inccurred when remaining in extended shift for several consecutive months.\n",
    "\n",
    "The cost of holding stock is $20 per unit per month and is based on the stock held at the end of each month, after demand for that month has been satisfied. The initial stock is 3,000 units. However, the amount in stock at the end of the last month should also be at least 2,000 units. In the most recent month (relevant for cost of switching to extended shift) the company operated in a normal shift. The demand for the company's product in each of the months is known to be as provided in the list \"demand\" below.\n",
    "\n",
    "The company wants a production plan for the next months that avoids stockouts (i.e., meets all demand), and minimizes the combined costs that are described above. Formulate and solve this problem as an integer program (optimal solution should come out as 1.82M).\n",
    "\n",
    "Hint: it may pay off to have up to 6 kinds of decision variables for each month: three binaries that signal the type of production (no production, normal, extended), one continuous variable for the production quantities, another continuous one for the leftover inventory at the end of a month (both of these may also be integer), and binary variables that signal whether extended production occurs in one month after normal/no production in the previous."
   ]
  },
  {
   "cell_type": "code",
   "execution_count": 3,
   "metadata": {},
   "outputs": [],
   "source": [
    "demand = [3000, 4000, 9000,0, 7000, 15000, 5000, 10000, 5000, 11000, 2000]\n",
    "# Hint: it may be useful to append a 0 to the list of demands (just for indexing)\n",
    "\n",
    "normal_cost = 100000\n",
    "normal_production = 6000\n",
    "minimum_production = 2000\n",
    "\n",
    "extended_cost = 180000\n",
    "extended_production = 11000\n",
    "\n",
    "no_production_cost = 20000\n",
    "\n",
    "cost_of_changing_to_extended = 100000\n",
    "\n",
    "holding_cost_per_unit = 20\n",
    "initial_stock = 3000\n",
    "end_inventory = 2000"
   ]
  },
  {
   "cell_type": "markdown",
   "metadata": {},
   "source": [
    "#### Bonus question: \n",
    "What changes if you add the constraint that in an extended month you need to produce at least 6000 units? Can you explain the operational implication/underlying tradeoffs?"
   ]
  },
  {
   "cell_type": "markdown",
   "metadata": {},
   "source": [
    "#### Problem 2: Checkerboard\n",
    "\n",
    "Consider the following problem. You are at the bottom-left corner of a chessboard (\"A1\"). Each field on the board has a value. The value of a field is stored in the dictionary \"values\" defined in the cell below. For each field you visit, you collect the value of that field; however, you are only allowed to move \"up\" or \"right\" (e.g., from \"A1\" to \"B1\" or from \"A1\" to \"A2\"). Find the maximum value you can collect as you move from \"A1\" eventually to \"H8\"? What sequence of fields to visit will yield that value?\n",
    "\n",
    "(An optimal solution should yield 1111 in value)"
   ]
  },
  {
   "cell_type": "code",
   "execution_count": 4,
   "metadata": {},
   "outputs": [],
   "source": [
    "values = {('A', 1): 87, ('A', 2): 6, ('A', 3): 81, ('A', 4): 89, ('A', 5): 99, ('A', 6): 8, ('A', 7): 47,\n",
    " ('A', 8): 81, ('B', 1): 18, ('B', 2): 17, ('B', 3): 50, ('B', 4): 66, ('B', 5): 91, ('B', 6): 47, ('B', 7): 98,\n",
    " ('B', 8): 55, ('C', 1): 21, ('C', 2): 1, ('C', 3): 16, ('C', 4): 9, ('C', 5): 70, ('C', 6): 96, ('C', 7): 93,\n",
    " ('C', 8): 34, ('D', 1): 19, ('D', 2): 63, ('D', 3): 52, ('D', 4): 74, ('D', 5): 50, ('D', 6): 5, ('D', 7): 90,\n",
    " ('D', 8): 45, ('E', 1): 35, ('E', 2): 3, ('E', 3): 30, ('E', 4): 43, ('E', 5): 62, ('E', 6): 57, ('E', 7): 20,\n",
    " ('E', 8): 54, ('F', 1): 51, ('F', 2): 70, ('F', 3): 70, ('F', 4): 49, ('F', 5): 20, ('F', 6): 8, ('F', 7): 5,\n",
    " ('F', 8): 92, ('G', 1): 70, ('G', 2): 79, ('G', 3): 21, ('G', 4): 86, ('G', 5): 42, ('G', 6): 76, ('G', 7): 67,\n",
    " ('G', 8): 33, ('H', 1): 1, ('H', 2): 26, ('H', 3): 78, ('H', 4): 53, ('H', 5): 39, ('H', 6): 73, ('H', 7): 24,\n",
    " ('H', 8): 85}"
   ]
  },
  {
   "cell_type": "markdown",
   "metadata": {},
   "source": [
    "Hint: When at field \"H8\" you get a value of 85, but will not receive any more from moving. At field \"H7\" you receive 24, and you will have to move to \"H8\" next getting you another 85. At \"G7\" you get 67, and you get the better of moving to \"G8\" (33) and then to \"H8\" or to \"H7\" (24) and then to \"H8\". How much value will you collect in the remaining path starting from \"G7\"?"
   ]
  },
  {
   "cell_type": "markdown",
   "metadata": {},
   "source": [
    "#### Problem 3: Secretary problem (implement solution from class)\n",
    "\n",
    "In class we saw the secretary problem, in which the CEO's goal was to maximize the expected score of the candidate. We saw the intuition then of what a solution should look like: she should accept in round $t$ if (in expectation) the one chosen from the remaining $t-1$ candidates will not be better. Use dynamic programming and simulation to identify the threshold for accepting with $t$ candidates remaining for $t=1,2,3,4,5$.\n",
    "\n",
    "Hint: the cell below creates 10,000 samples of 5 random secretary arrivals. Use those to estimate (for a given threshold) the expected quality of the last arrival. You'd want to accept the second-to-last if they is better than that expected quality. You can also use these arrivals to estimate the probability that the second-to-last arrival would be better than the expected quality, and use those 2 together to determine the expected quality the CEO will get out of the last 2 combined, which you can then use for the third-to-last (and so forth)..."
   ]
  },
  {
   "cell_type": "code",
   "execution_count": 2,
   "metadata": {},
   "outputs": [],
   "source": [
    "arrivals = {}\n",
    "num_sims = 10**4\n",
    "for k in range(num_sims):\n",
    "    arrivals[k] = np.random.randint(0,101,5)"
   ]
  },
  {
   "cell_type": "markdown",
   "metadata": {},
   "source": [
    "Next, repeat the above, but rather than assuming that the quality score of each candidate is uniform between 0 and 100, assume it is normally distributed with mean 500 and standard deviation 20 (if you did the above right, this should only require a change in one line)."
   ]
  }
 ],
 "metadata": {
  "kernelspec": {
   "display_name": "Python 3",
   "language": "python",
   "name": "python3"
  },
  "language_info": {
   "codemirror_mode": {
    "name": "ipython",
    "version": 3
   },
   "file_extension": ".py",
   "mimetype": "text/x-python",
   "name": "python",
   "nbconvert_exporter": "python",
   "pygments_lexer": "ipython3",
   "version": "3.7.3"
  }
 },
 "nbformat": 4,
 "nbformat_minor": 2
}
